{
 "cells": [
  {
   "cell_type": "markdown",
   "metadata": {
    "id": "h-7XMM8L6vIu"
   },
   "source": [
    "# Training a Computer Vision model with PyTorch\n",
    "PyTorch is an open-source machine learning framework developed primarily by Facebook's AI Research lab (FAIR). It is designed to provide a flexible and dynamic platform for building and training machine learning models, particularly deep neural networks. We are going to use PyTorch to implement a neural network to detect our robots."
   ]
  },
  {
   "cell_type": "markdown",
   "metadata": {
    "id": "2uocshQQ7j28",
    "jp-MarkdownHeadingCollapsed": true
   },
   "source": [
    "## Imports"
   ]
  },
  {
   "cell_type": "code",
   "execution_count": 1,
   "metadata": {
    "id": "rLGVo8uq7l-2"
   },
   "outputs": [
    {
     "name": "stderr",
     "output_type": "stream",
     "text": [
      "/home/dfc/projects/classes/pids/pids/lab/venv/lib/python3.8/site-packages/torchvision/datapoints/__init__.py:12: UserWarning: The torchvision.datapoints and torchvision.transforms.v2 namespaces are still Beta. While we do not expect major breaking changes, some APIs may still change according to user feedback. Please submit any feedback you may have in this issue: https://github.com/pytorch/vision/issues/6753, and you can also check out https://github.com/pytorch/vision/issues/7319 to learn more about the APIs that we suspect might involve future changes. You can silence this warning by calling torchvision.disable_beta_transforms_warning().\n",
      "  warnings.warn(_BETA_TRANSFORMS_WARNING)\n",
      "/home/dfc/projects/classes/pids/pids/lab/venv/lib/python3.8/site-packages/torchvision/transforms/v2/__init__.py:54: UserWarning: The torchvision.datapoints and torchvision.transforms.v2 namespaces are still Beta. While we do not expect major breaking changes, some APIs may still change according to user feedback. Please submit any feedback you may have in this issue: https://github.com/pytorch/vision/issues/6753, and you can also check out https://github.com/pytorch/vision/issues/7319 to learn more about the APIs that we suspect might involve future changes. You can silence this warning by calling torchvision.disable_beta_transforms_warning().\n",
      "  warnings.warn(_BETA_TRANSFORMS_WARNING)\n"
     ]
    }
   ],
   "source": [
    "import os\n",
    "import torch\n",
    "import numpy as np\n",
    "from tqdm import tqdm\n",
    "from PIL import Image\n",
    "import xml.etree.ElementTree as ET\n",
    "from typing import Tuple, Union, Any\n",
    "from torchvision.models import detection\n",
    "import torchvision.transforms.v2 as transforms\n",
    "from torch.utils.data import Dataset, DataLoader\n",
    "import matplotlib.pyplot as plt\n",
    "import warnings\n",
    "warnings.filterwarnings('ignore')"
   ]
  },
  {
   "cell_type": "markdown",
   "metadata": {
    "id": "Udf9DXRD7o2H",
    "jp-MarkdownHeadingCollapsed": true
   },
   "source": [
    "## Utils functions\n",
    "We are going to define some functions that will be used during the network training. Read the docstrings (comments explaining the functions) to understand them."
   ]
  },
  {
   "cell_type": "code",
   "execution_count": null,
   "metadata": {
    "id": "8RH3c7Th7pEV"
   },
   "outputs": [],
   "source": [
    "def set_seed(seed: int) -> None:\n",
    "    \"\"\"\n",
    "    Define a seed for reproducibility. It allows experiment repetition obtaining the exact same results.\n",
    "    :param seed: integer number indicating which seed you want to use.\n",
    "    :return: None.\n",
    "    \"\"\"\n",
    "    torch.manual_seed(seed)\n",
    "    torch.cuda.manual_seed(seed)\n",
    "    torch.cuda.manual_seed_all(seed)  # if you are using multi-GPU.\n",
    "    np.random.seed(seed)  # Numpy module.\n",
    "    # random.seed(seed)  # Python random module.\n",
    "    torch.manual_seed(seed)\n",
    "    torch.backends.cudnn.benchmark = False\n",
    "    torch.backends.cudnn.deterministic = True\n",
    "\n",
    "def get_inner_model(model: detection) -> Any:\n",
    "    \"\"\"\n",
    "    PyTorch provides a model wrapper to enable multiple GPUs. This function returns the inner model (without wrapper).\n",
    "    :param model: Torch model, with or without nn.DataParallel wrapper.\n",
    "    :return: if model is wrapped, it returns the inner model (model.module). Otherwise, it returns the input model.\n",
    "    \"\"\"\n",
    "    return model.module if isinstance(model, torch.nn.DataParallel) else model\n",
    "\n",
    "\n",
    "def torch_load_cpu(load_path: str) -> Any:\n",
    "    \"\"\"\n",
    "    Load the data saved from a trained model (model weights, optimizer state, last epoch number to resume training...)\n",
    "    :param load_path: string indicating the path to the data saved from a trained model.\n",
    "    :return: dictionary containing data saved from a trained model.\n",
    "    \"\"\"\n",
    "    return torch.load(load_path, map_location=lambda storage, loc: storage)  # Load on CPU\n",
    "\n",
    "\n",
    "def load_model_path(path: str, model: detection, device: torch.device, optimizer: torch.optim = None) -> Tuple[Any, Any, int]:\n",
    "    \"\"\"\n",
    "    Load the trained weights of a model into the given model.\n",
    "    :param path: string indicating the path to the trained weights of a model.\n",
    "    :param model: the model where you want to load the weights.\n",
    "    :param device: whether gpu or cpu is being used.\n",
    "    :param optimizer: the optimizer initialized before loading the weights.\n",
    "    :return:\n",
    "        model: Torchvision model.\n",
    "        optimizer: Torch optimizer.\n",
    "        history: training history.\n",
    "    \"\"\"\n",
    "\n",
    "    # Load model state\n",
    "    load_data = torch_load_cpu(path)\n",
    "    model.load_state_dict({**model.state_dict(), **load_data.get('model', {})})\n",
    "    # model_ = get_inner_model(model)\n",
    "    # model_.load_state_dict({**model_.state_dict(), **load_data.get('model', {})})\n",
    "\n",
    "    # Load rng state\n",
    "    torch.set_rng_state(load_data['rng_state'])\n",
    "    if torch.cuda.is_available():\n",
    "        torch.cuda.set_rng_state_all(load_data['cuda_rng_state'])\n",
    "\n",
    "    # Load optimizer state\n",
    "    if 'optimizer' in load_data and optimizer is not None:\n",
    "        optimizer.load_state_dict(load_data['optimizer'])\n",
    "        for state in optimizer.state.values():\n",
    "            for k, v in state.items():\n",
    "                if torch.is_tensor(v):\n",
    "                    state[k] = v.to(device)\n",
    "\n",
    "    # Get initial epoch and training history\n",
    "    history = load_data['history']\n",
    "\n",
    "    return model, optimizer, history\n",
    "\n",
    "\n",
    "def torchvision_model(model_name: str, pretrained: bool = False, num_classes: int = 2) -> Any:\n",
    "    \"\"\"\n",
    "    Return a model from a list of Torchvision models.\n",
    "    :param model_name: name of the Torchvision model that you want to load.\n",
    "    :param pretrained: whether pretrained weights are going to be loaded or not.\n",
    "    :param num_classes: number of classes. Minimum is 2: 0 = background, 1 = object.\n",
    "    :return:\n",
    "        model: Torchvision model.\n",
    "    \"\"\"\n",
    "\n",
    "    # Torchvision models\n",
    "    model_dict = {\n",
    "        'faster_rcnn_v1': detection.fasterrcnn_resnet50_fpn,\n",
    "        'faster_rcnn_v2': detection.fasterrcnn_resnet50_fpn_v2,\n",
    "        'faster_rcnn_v3': detection.fasterrcnn_mobilenet_v3_large_fpn,\n",
    "        # 'faster_rcnn_v4': detection.fasterrcnn_mobilenet_v3_large_320_fpn,\n",
    "        # 'fcos_v1': detection.fcos_resnet50_fpn,\n",
    "        'retinanet_v1': detection.retinanet_resnet50_fpn,\n",
    "        'retinanet_v2': detection.retinanet_resnet50_fpn_v2,\n",
    "        'ssd_v1': detection.ssd300_vgg16,\n",
    "        'ssd_v2': detection.ssdlite320_mobilenet_v3_large,\n",
    "    }\n",
    "\n",
    "    # Create model and load pretrained weights (if pretrained=True)\n",
    "    if model_name in model_dict:\n",
    "        model = model_dict[model_name](weights='COCO_V1' if pretrained else None)\n",
    "\n",
    "        # Modify the model's output layer for the number of classes in your dataset\n",
    "        if 'faster_rcnn' in model_name:\n",
    "            in_features = model.roi_heads.box_predictor.cls_score.in_features\n",
    "            model.roi_heads.box_predictor = detection.faster_rcnn.FastRCNNPredictor(in_features, num_classes)\n",
    "        elif 'retinanet' in model_name:\n",
    "            in_features = model.head.classification_head.cls_logits.in_channels\n",
    "            num_anchors = model.head.classification_head.num_anchors\n",
    "            model.head.classification_head = detection.retinanet.RetinaNetClassificationHead(\n",
    "                in_features, num_anchors, num_classes\n",
    "            )\n",
    "        elif 'fcos' in model_name:\n",
    "            in_features = model.head.classification_head.cls_logits.in_channels\n",
    "            num_anchors = model.head.classification_head.num_anchors\n",
    "            model.head.classification_head = detection.fcos.FCOSClassificationHead(\n",
    "                in_features, num_anchors, num_classes\n",
    "            )\n",
    "        elif 'ssd_v1' in model_name:\n",
    "            in_features = [module.in_channels for module in model.head.classification_head.module_list]\n",
    "            num_anchors = model.anchor_generator.num_anchors_per_location()\n",
    "            model.head.classification_head = detection.ssd.SSDClassificationHead(\n",
    "                in_features, num_anchors, num_classes\n",
    "            )\n",
    "        elif 'ssd_v2' in model_name:\n",
    "            in_features = [module[0][0].in_channels for module in model.head.classification_head.module_list]\n",
    "            num_anchors = model.anchor_generator.num_anchors_per_location()\n",
    "            model.head.classification_head = detection.ssd.SSDClassificationHead(\n",
    "                in_features, num_anchors, num_classes\n",
    "            )\n",
    "\n",
    "    # Error: Model not in list\n",
    "        else:\n",
    "            assert False, 'Model {} not in list. Indicate a Torchvision model from the list.'.format(model_name)\n",
    "    else:\n",
    "        assert False, 'Model {} not in list. Indicate a Torchvision model from the list.'.format(model_name)\n",
    "\n",
    "    return model\n",
    "\n",
    "\n",
    "def get_model(\n",
    "    model_name: str,\n",
    "    model_path: str = '',\n",
    "    num_classes: int = 2,\n",
    "    lr_data: list = None,\n",
    "    pretrained: bool = False,\n",
    "    use_gpu: bool = False\n",
    ") -> Tuple[Any, Any, int, torch.device]:\n",
    "    \"\"\"\n",
    "    Main function to create and load the model.\n",
    "    :param model_name: name of the Torchvision model to load.\n",
    "    :param model_path: path to the model.\n",
    "    :param num_classes: number of classes. Minimum is 2: 0 = background, 1 = object.\n",
    "    :param lr_data: list containing [learning rate, learning rate momentum, learning rate decay].\n",
    "    :param pretrained: whether Torch pretrained weights on COCO dataset are going to be used or not.\n",
    "    :param use_gpu: whether to use GPU or CPU.\n",
    "    :return:\n",
    "        model: Torch model.\n",
    "        optimizer: Torch optimizer.\n",
    "        history: training history.\n",
    "        device: torch device indicating whether to use GPU or CPU.\n",
    "    \"\"\"\n",
    "\n",
    "    # Define device (GPU or CPU)\n",
    "    device_name = 'cuda' if use_gpu and torch.cuda.is_available() else 'cpu'\n",
    "    device = torch.device(device_name)\n",
    "\n",
    "    # Load Torchvision model\n",
    "    model = torchvision_model(model_name, pretrained, num_classes).to(device)\n",
    "    # if use_gpu and torch.cuda.is_available() and torch.cuda.device_count() > 1:\n",
    "    #     model = torch.nn.DataParallel(model).cuda()\n",
    "\n",
    "    # Define the optimizer\n",
    "    if lr_data:\n",
    "        params = [p for p in model.parameters() if p.requires_grad]\n",
    "        optimizer = torch.optim.SGD(params, lr=lr_data[0], momentum=lr_data[1], weight_decay=lr_data[2])\n",
    "    else:\n",
    "        optimizer = None\n",
    "\n",
    "    # Load trained weights, optimizer state, and initial epoch\n",
    "    if os.path.isfile(model_path):\n",
    "        print(f\"WARNING!!! -> You are going to overwrite the model in {model_path}.\")\n",
    "        print(f\"You should only do this in case you want to resume a training. Are you sure you want to overwrite it?\")\n",
    "        print(f\"If not, change the model_path variable to a non-existing path.\\n\")\n",
    "        print(f\"\\t[*] Loading Torch model from '{model_path}'\")\n",
    "        model, optimizer, history = load_model_path(model_path, model, device, optimizer)\n",
    "    else:\n",
    "        history = {'train_loss': [], 'valid_loss': [], 'best_value': np.inf, 'current_epoch': 0}\n",
    "        print(f\"Model weights not found in '{model_path}'. Training from scratch.\")\n",
    "\n",
    "    return model, optimizer, history, device\n",
    "\n",
    "def clip_grad_norms(param_groups, max_norm=np.inf) -> Tuple[list, list]:\n",
    "    \"\"\"\n",
    "    Limit (clip) the norm of the gradients to avoid gradient explosion.\n",
    "    :param param_groups: parameters of the optimizer, from which gradients are extracted.\n",
    "    :param max_norm: maximum value for the norm of the gradient. max_norm = 0 avoids clipping.\n",
    "    :return:\n",
    "        grad_norms: gradients.\n",
    "        grad_norms_clipped: clipped gradients.\n",
    "    \"\"\"\n",
    "\n",
    "    # Get gradients\n",
    "    grad_norms = [\n",
    "        torch.nn.utils.clip_grad_norm_(\n",
    "            group['params'],\n",
    "            max_norm if max_norm > 0 else np.inf,  # Inf so no clipping but still call to calc\n",
    "            norm_type=2\n",
    "        )\n",
    "        for group in param_groups\n",
    "    ]\n",
    "\n",
    "    # Clip gradients\n",
    "    grad_norms_clipped = [min(g_norm, max_norm) for g_norm in grad_norms] if max_norm > 0 else grad_norms\n",
    "    return grad_norms, grad_norms_clipped"
   ]
  },
  {
   "cell_type": "markdown",
   "metadata": {
    "id": "PGRBg6KI_Abw"
   },
   "source": [
    "## Data Generator\n",
    "Data generators (called Datasets in Torch) are used to iteratively load images and annotations to feed neural networks during train, validation, and test."
   ]
  },
  {
   "cell_type": "code",
   "execution_count": null,
   "metadata": {
    "id": "WAgWT9fR_SOH"
   },
   "outputs": [],
   "source": [
    "class CustomDataset(Dataset):\n",
    "\n",
    "    def __init__(self, path_dataset: str, resize_shape: tuple = None, transform: transforms.Compose = None) -> None:\n",
    "        \"\"\"\n",
    "        Custom dataset that feeds the network during train, validation, and test.\n",
    "        :param path_dataset: path to the dataset.\n",
    "        :param resize_shape: tuple indicating height and width to resize images (for faster performance).\n",
    "        :param transform: list of transforms to apply to the images.\n",
    "        \"\"\"\n",
    "        print(\"Loading annotations...\")\n",
    "        self.annotations = parse_annotations(path_dataset)\n",
    "        self.resize_shape = resize_shape\n",
    "        self.transform = transform\n",
    "\n",
    "    def __getitem__(self, idx: int) -> Tuple[torch.Tensor, dict]:\n",
    "        \"\"\"\n",
    "        Get an index corresponding to one of the images and return the image and its annotation.\n",
    "        :param idx: index of image to load.\n",
    "        :return:\n",
    "            image: Torch tensor containing the image with shape (Channels, Height, Width).\n",
    "            targets: dictionary with the bounding boxes (boxes) and class labels (labels) of each annotated object.\n",
    "        \"\"\"\n",
    "        # Get one annotation for the current index\n",
    "        annotation = self.annotations[idx]\n",
    "\n",
    "        # Load image\n",
    "        image = Image.open(annotation['path_image']).convert(\"RGB\")\n",
    "\n",
    "        # Load bounding boxes\n",
    "        boxes = self.annotations[idx]['boxes']\n",
    "        boxes = torch.tensor(boxes)\n",
    "\n",
    "        # Load labels (class of the object)\n",
    "        labels = self.annotations[idx]['labels']\n",
    "        labels = torch.tensor(labels).type(torch.int64)\n",
    "\n",
    "        # If empty, reshape to [0, 4]\n",
    "        if boxes.numel() == 0:\n",
    "            boxes = torch.zeros((0, 4), dtype=torch.float32)\n",
    "\n",
    "        # Apply transforms\n",
    "        if self.transform:\n",
    "            w, h = image.size\n",
    "            image, boxes, class_labels = self.transform(image, boxes, labels)\n",
    "            if self.resize_shape:\n",
    "                boxes = resize_boxes(boxes, self.resize_shape, (h, w))\n",
    "\n",
    "        # Torchvision models use this structure for boxes and labels\n",
    "        targets = {'boxes': boxes, 'labels': torch.tensor(labels)}\n",
    "        return image, targets\n",
    "\n",
    "    def __len__(self) -> int:\n",
    "        \"\"\"\n",
    "        Length of the dataset.\n",
    "        :return: number of annotated images contained in the dataset.\n",
    "        \"\"\"\n",
    "        return len(self.annotations)\n",
    "\n",
    "\n",
    "def resize_boxes(boxes: torch.Tensor, resize_shape: tuple, image_shape: tuple) -> torch.Tensor:\n",
    "    \"\"\"\n",
    "    Resize the shape of the bounding boxes when the size of the images is also resized.\n",
    "    :param boxes: Torch tensor containing bounding boxes with format: [x_min, y_min, x_max, y_max].\n",
    "    :param resize_shape: new image size.\n",
    "    :param image_shape: previous image size.\n",
    "    :return:\n",
    "        boxes: resized bounding boxes.\n",
    "    \"\"\"\n",
    "    boxes[:, 0] *= resize_shape[1] / image_shape[1]\n",
    "    boxes[:, 1] *= resize_shape[0] / image_shape[0]\n",
    "    boxes[:, 2] *= resize_shape[1] / image_shape[1]\n",
    "    boxes[:, 3] *= resize_shape[0] / image_shape[0]\n",
    "    return boxes\n",
    "\n",
    "\n",
    "def get_transform(norm: tuple, resize_shape: Union[tuple, None]) -> transforms.Compose:\n",
    "    \"\"\"\n",
    "    Define data transformations and apply them to the dataset.\n",
    "    :param norm: mean and std required by each Torchvision model to normalize the input images.\n",
    "    :param resize_shape: new image size.\n",
    "    :return:\n",
    "        transform: list of transforms to apply to the images.\n",
    "    \"\"\"\n",
    "\n",
    "    # Convert images to Torch tensors and apply the previous normalization\n",
    "    t = [transforms.ToTensor(), transforms.Normalize(*norm)]\n",
    "\n",
    "    # Resize images if required\n",
    "    if resize_shape:\n",
    "        t.append(transforms.Resize(resize_shape))\n",
    "    return transforms.Compose(t)\n",
    "\n",
    "\n",
    "def parse_annotations(path_dataset: str) -> list:\n",
    "    \"\"\"\n",
    "    Read dataset structure and extract path to images and annotations.\n",
    "    :param path_dataset: path to the dataset.\n",
    "    :return:\n",
    "        annotations: list of dictionaries, each with the path to the image, the bounding boxes, and the class labels.\n",
    "    \"\"\"\n",
    "\n",
    "    # Search labels on each sequence\n",
    "    annotations = []\n",
    "    for sequence in tqdm(sorted(os.listdir(path_dataset))):\n",
    "        if os.path.isdir(os.path.join(path_dataset, sequence)):\n",
    "            path_sequence = os.path.join(path_dataset, sequence, 'labels')\n",
    "\n",
    "            # Search labels on each frame\n",
    "            for frame in sorted(os.listdir(path_sequence)):\n",
    "                if os.path.isfile(os.path.join(path_sequence, frame)):                \n",
    "                    path_frame_labels = os.path.join(path_sequence, frame)\n",
    "    \n",
    "                    # Load labels\n",
    "                    image_name, boxes = read_label(path_frame_labels)\n",
    "                    # if len(boxes) == 0:\n",
    "                    #     continue\n",
    "    \n",
    "                    # Get path to the image\n",
    "                    path_image = os.path.join(path_dataset, sequence, 'images', image_name)\n",
    "    \n",
    "                    # Save the path to the image, the boxes, and the labels (class of object) in a dictionary\n",
    "                    annotations.append({\n",
    "                        'path_image': path_image,\n",
    "                        'boxes': np.array(boxes),\n",
    "                        'labels': np.array([1 for _ in range(len(boxes))])\n",
    "                    })\n",
    "    return annotations\n",
    "\n",
    "\n",
    "def read_label(xml_file: str) -> Tuple[str, list]:\n",
    "    \"\"\"\n",
    "    Read annotation xml file.\n",
    "    :param xml_file: path to xml file.\n",
    "    :return:\n",
    "        image_name: string with the imnage filename.\n",
    "        list_with_all_boxes: list of bounding boxes.\n",
    "    \"\"\"\n",
    "\n",
    "    # Load xml data\n",
    "    tree = ET.parse(xml_file)\n",
    "    root = tree.getroot()\n",
    "\n",
    "    # Load frame name\n",
    "    image_name = root.find('filename').text\n",
    "\n",
    "    # Load all bounding boxes\n",
    "    list_with_all_boxes = []\n",
    "    for boxes in root.iter('object'):\n",
    "\n",
    "        # Get box\n",
    "        ymin, xmin, ymax, xmax = None, None, None, None\n",
    "        ymin = int(boxes.find(\"bndbox/ymin\").text)\n",
    "        xmin = int(boxes.find(\"bndbox/xmin\").text)\n",
    "        ymax = int(boxes.find(\"bndbox/ymax\").text)\n",
    "        xmax = int(boxes.find(\"bndbox/xmax\").text)\n",
    "        \n",
    "        # Skip boxes with missing values\n",
    "        if (ymin is None) or (xmin is None) or (ymax is None) or (xmax is None):\n",
    "            continue\n",
    "\n",
    "        # Save box\n",
    "        list_with_one_box = [xmin, ymin, xmax, ymax]\n",
    "        list_with_all_boxes.append(list_with_one_box)\n",
    "\n",
    "    return image_name, list_with_all_boxes\n",
    "\n",
    "\n",
    "def collate_fn(batch: list) -> tuple:\n",
    "    \"\"\"\n",
    "    Avoids stacking images and annotations from dataloader as a Torch tensor, and stacks them as tuples.\n",
    "    :param batch: images and annotations loaded from dataset.\n",
    "    :return:\n",
    "        batch: images and annotations stacked as tuples.\n",
    "    \"\"\"\n",
    "    return tuple(zip(*batch))"
   ]
  },
  {
   "cell_type": "markdown",
   "metadata": {
    "id": "WZmRG2eb_bCL"
   },
   "source": [
    "## Parameters\n",
    "Here, we define multiple parameters to train our network. Read them carefully, understand their utility, and play with them to obtain the best model."
   ]
  },
  {
   "cell_type": "code",
   "execution_count": null,
   "metadata": {
    "id": "fcSsta2J_WmX",
    "tags": [
     "parameters"
    ]
   },
   "outputs": [],
   "source": [
    "local_path = '../..'\n",
    "\n",
    "# Seed (for reproducibility) -> Do NOT change\n",
    "seed = 0\n",
    "set_seed(seed)\n",
    "\n",
    "# Data parameters\n",
    "path_dataset = f'{local_path}/dataset'                    # Path to dataset\n",
    "train_valid_test_split = [0.8, 0.2, 0.0]                  # Train-Valid-Test split of the dataset\n",
    "\n",
    "# Model parameters\n",
    "model_name = 'faster_rcnn_v1'                             # Torchvision model\n",
    "model_path = f'{local_path}/models/{model_name}/model.pt' # Path to save trained model\n",
    "num_classes = 2                                           # Number of classes (ALWAYS 2: 0=background, 1=robot)\n",
    "resize_shape = None                                       # Resize images for faster performance. None to avoid resizing\n",
    "pretrained = True                                         # Use weights pre-trained on COCO dataset\n",
    "\n",
    "# Train parameters (do NOT change)\n",
    "use_gpu = True                                            # Use GPU (True) or CPU (False)\n",
    "num_workers = 0                                           # Number of workers (CPU cores loading data)\n",
    "\n",
    "# Other train parameters (explain them and play with them)\n",
    "num_epochs = ...                                           # Number of epochs\n",
    "batch_size = ...                                            # Batch size\n",
    "lr = ...                                                # Learning rate\n",
    "lr_momentum = ...\n",
    "lr_decay = ...\n",
    "lr_factor = ...\n",
    "lr_patience = ...\n",
    "lr_threshold = ...\n",
    "lr_min = ...\n",
    "models_to_clip = ['<model-1>', '<model-2>']\n",
    "max_grad_norm = 1 if model_name in models_to_clip else 0"
   ]
  },
  {
   "cell_type": "markdown",
   "metadata": {
    "id": "hd8Z1k-cAzrR"
   },
   "source": [
    "## Train\n",
    "Now, we have enough material to train our network. First, we will create a Torchvision model (and resume previous training if you iterrupted it). We also define a learning rate scheduler to modify the learning rate value while training."
   ]
  },
  {
   "cell_type": "code",
   "execution_count": 5,
   "metadata": {
    "colab": {
     "base_uri": "https://localhost:8080/"
    },
    "executionInfo": {
     "elapsed": 3346,
     "status": "ok",
     "timestamp": 1697809267955,
     "user": {
      "displayName": "Dani Fuertes",
      "userId": "03202983811684298813"
     },
     "user_tz": -120
    },
    "id": "k1j7BR6jAcrn",
    "outputId": "14e2ed39-592b-4d07-d305-2659e51a44e4"
   },
   "outputs": [
    {
     "name": "stdout",
     "output_type": "stream",
     "text": [
      "Model weights not found in '../../models/faster_rcnn_v1/model.pt'. Training from scratch.\n"
     ]
    }
   ],
   "source": [
    "# Load model\n",
    "model, optimizer, history, device = get_model(\n",
    "    model_name=model_name,\n",
    "    model_path=model_path,\n",
    "    num_classes=num_classes,\n",
    "    lr_data=[lr, lr_momentum, lr_decay],\n",
    "    pretrained=pretrained,\n",
    "    use_gpu=use_gpu\n",
    ")\n",
    "\n",
    "# Define learning rate scheduler\n",
    "lr_scheduler = torch.optim.lr_scheduler.ReduceLROnPlateau(\n",
    "    optimizer=optimizer,\n",
    "    factor=lr_factor,\n",
    "    patience=lr_patience,\n",
    "    threshold=lr_threshold,\n",
    "    min_lr=lr_min,\n",
    "    verbose=True\n",
    ")"
   ]
  },
  {
   "cell_type": "markdown",
   "metadata": {
    "id": "YKmqgBXRBrAc"
   },
   "source": [
    "Secondly, let's create a directory to save our future trained model, and a data generator to iteratively load data from your labeled dataset to feed your network. Notice (and understand) the diference in PyTorch between Dataset and DataLoader."
   ]
  },
  {
   "cell_type": "code",
   "execution_count": 6,
   "metadata": {
    "id": "9j-RlsKOAUyN"
   },
   "outputs": [],
   "source": [
    "# Create output directory if not exists\n",
    "save_dir = '/'.join(model_path.split('/')[:-1])\n",
    "os.makedirs(save_dir, exist_ok=True)"
   ]
  },
  {
   "cell_type": "code",
   "execution_count": 7,
   "metadata": {
    "id": "7rVt62DmCEMK"
   },
   "outputs": [
    {
     "name": "stdout",
     "output_type": "stream",
     "text": [
      "Loading annotations...\n"
     ]
    },
    {
     "name": "stderr",
     "output_type": "stream",
     "text": [
      "100%|██████████| 10/10 [00:00<00:00, 544.96it/s]\n"
     ]
    }
   ],
   "source": [
    "# Image transformations\n",
    "image_and_std = (model.transform.image_mean, model.transform.image_std)\n",
    "transform = get_transform(image_and_std, resize_shape)\n",
    "\n",
    "# Initialize your custom dataset\n",
    "dataset = CustomDataset(\n",
    "    path_dataset=path_dataset,\n",
    "    resize_shape=resize_shape,\n",
    "    transform=transform,\n",
    ")\n",
    "\n",
    "# Apply Train-Valid-Test split\n",
    "train_set, valid_set, test_set = torch.utils.data.random_split(\n",
    "    dataset=dataset,\n",
    "    lengths=train_valid_test_split,\n",
    "    generator=torch.Generator().manual_seed(seed)\n",
    ")\n",
    "\n",
    "# Initialize your dataloaders\n",
    "train_loader = DataLoader(\n",
    "    dataset=train_set,\n",
    "    batch_size=batch_size,\n",
    "    shuffle=True,\n",
    "    num_workers=num_workers,\n",
    "    collate_fn=collate_fn,\n",
    ")\n",
    "valid_loader = DataLoader(\n",
    "    dataset=valid_set,\n",
    "    batch_size=batch_size,\n",
    "    num_workers=num_workers,\n",
    "    collate_fn=collate_fn,\n",
    ")"
   ]
  },
  {
   "cell_type": "markdown",
   "metadata": {
    "id": "cnm1m3HVCFsQ"
   },
   "source": [
    "Finally, we will let our model to train until convergence. Again, read the code carefully and understand every step. See the final plot and try to figure out what it is happening."
   ]
  },
  {
   "cell_type": "code",
   "execution_count": null,
   "metadata": {
    "colab": {
     "base_uri": "https://localhost:8080/"
    },
    "executionInfo": {
     "elapsed": 4364045,
     "status": "ok",
     "timestamp": 1697813633248,
     "user": {
      "displayName": "Dani Fuertes",
      "userId": "03202983811684298813"
     },
     "user_tz": -120
    },
    "id": "-U_HsmJvAbBT",
    "outputId": "83e63deb-03c8-404b-931c-e70e3452328c"
   },
   "outputs": [
    {
     "name": "stdout",
     "output_type": "stream",
     "text": [
      "Epoch 1/50\n"
     ]
    },
    {
     "name": "stderr",
     "output_type": "stream",
     "text": [
      "Train: 100%|██████████| 53/53 [00:21<00:00,  2.48it/s]\n",
      "Val  : 100%|██████████| 8/8 [00:01<00:00,  5.22it/s]\n"
     ]
    },
    {
     "name": "stdout",
     "output_type": "stream",
     "text": [
      " -> Train loss: 0.4379\n",
      " -> Valid loss: 0.1984 \n",
      "\n",
      "Epoch 2/50\n"
     ]
    },
    {
     "name": "stderr",
     "output_type": "stream",
     "text": [
      "Train: 100%|██████████| 53/53 [00:20<00:00,  2.54it/s]\n",
      "Val  : 100%|██████████| 8/8 [00:01<00:00,  5.24it/s]\n"
     ]
    },
    {
     "name": "stdout",
     "output_type": "stream",
     "text": [
      " -> Train loss: 0.1703\n",
      " -> Valid loss: 0.1523 \n",
      "\n",
      "Epoch 3/50\n"
     ]
    },
    {
     "name": "stderr",
     "output_type": "stream",
     "text": [
      "Train: 100%|██████████| 53/53 [00:20<00:00,  2.55it/s]\n",
      "Val  : 100%|██████████| 8/8 [00:01<00:00,  5.19it/s]\n"
     ]
    },
    {
     "name": "stdout",
     "output_type": "stream",
     "text": [
      " -> Train loss: 0.1195\n",
      " -> Valid loss: 0.1235 \n",
      "\n",
      "Epoch 4/50\n"
     ]
    },
    {
     "name": "stderr",
     "output_type": "stream",
     "text": [
      "Train: 100%|██████████| 53/53 [00:20<00:00,  2.54it/s]\n",
      "Val  : 100%|██████████| 8/8 [00:01<00:00,  5.22it/s]\n"
     ]
    },
    {
     "name": "stdout",
     "output_type": "stream",
     "text": [
      " -> Train loss: 0.0980\n",
      " -> Valid loss: 0.1173 \n",
      "\n",
      "Epoch 5/50\n"
     ]
    },
    {
     "name": "stderr",
     "output_type": "stream",
     "text": [
      "Train: 100%|██████████| 53/53 [00:20<00:00,  2.54it/s]\n",
      "Val  : 100%|██████████| 8/8 [00:01<00:00,  5.20it/s]\n"
     ]
    },
    {
     "name": "stdout",
     "output_type": "stream",
     "text": [
      " -> Train loss: 0.0808\n",
      " -> Valid loss: 0.1079 \n",
      "\n",
      "Epoch 6/50\n"
     ]
    },
    {
     "name": "stderr",
     "output_type": "stream",
     "text": [
      "Train: 100%|██████████| 53/53 [00:20<00:00,  2.54it/s]\n",
      "Val  : 100%|██████████| 8/8 [00:01<00:00,  5.17it/s]\n"
     ]
    },
    {
     "name": "stdout",
     "output_type": "stream",
     "text": [
      " -> Train loss: 0.0669\n",
      " -> Valid loss: 0.1088 \n",
      "\n",
      "Epoch 7/50\n"
     ]
    },
    {
     "name": "stderr",
     "output_type": "stream",
     "text": [
      "Train: 100%|██████████| 53/53 [00:20<00:00,  2.54it/s]\n",
      "Val  : 100%|██████████| 8/8 [00:01<00:00,  5.10it/s]\n"
     ]
    },
    {
     "name": "stdout",
     "output_type": "stream",
     "text": [
      " -> Train loss: 0.0623\n",
      " -> Valid loss: 0.1050 \n",
      "\n",
      "Epoch 8/50\n"
     ]
    },
    {
     "name": "stderr",
     "output_type": "stream",
     "text": [
      "Train: 100%|██████████| 53/53 [00:20<00:00,  2.54it/s]\n",
      "Val  : 100%|██████████| 8/8 [00:01<00:00,  5.18it/s]\n"
     ]
    },
    {
     "name": "stdout",
     "output_type": "stream",
     "text": [
      " -> Train loss: 0.0579\n",
      " -> Valid loss: 0.1166 \n",
      "\n",
      "Epoch 9/50\n"
     ]
    },
    {
     "name": "stderr",
     "output_type": "stream",
     "text": [
      "Train: 100%|██████████| 53/53 [00:20<00:00,  2.54it/s]\n",
      "Val  : 100%|██████████| 8/8 [00:01<00:00,  5.21it/s]\n"
     ]
    },
    {
     "name": "stdout",
     "output_type": "stream",
     "text": [
      " -> Train loss: 0.0535\n",
      " -> Valid loss: 0.1150 \n",
      "\n",
      "Epoch 10/50\n"
     ]
    },
    {
     "name": "stderr",
     "output_type": "stream",
     "text": [
      "Train: 100%|██████████| 53/53 [00:21<00:00,  2.52it/s]\n",
      "Val  : 100%|██████████| 8/8 [00:01<00:00,  5.17it/s]\n"
     ]
    },
    {
     "name": "stdout",
     "output_type": "stream",
     "text": [
      " -> Train loss: 0.0465\n",
      " -> Valid loss: 0.1110 \n",
      "\n",
      "Epoch 11/50\n"
     ]
    },
    {
     "name": "stderr",
     "output_type": "stream",
     "text": [
      "Train: 100%|██████████| 53/53 [00:20<00:00,  2.54it/s]\n",
      "Val  : 100%|██████████| 8/8 [00:01<00:00,  5.19it/s]\n"
     ]
    },
    {
     "name": "stdout",
     "output_type": "stream",
     "text": [
      " -> Train loss: 0.0458\n",
      " -> Valid loss: 0.0988 \n",
      "\n",
      "Epoch 12/50\n"
     ]
    },
    {
     "name": "stderr",
     "output_type": "stream",
     "text": [
      "Train: 100%|██████████| 53/53 [00:20<00:00,  2.54it/s]\n",
      "Val  : 100%|██████████| 8/8 [00:01<00:00,  5.24it/s]\n"
     ]
    },
    {
     "name": "stdout",
     "output_type": "stream",
     "text": [
      " -> Train loss: 0.0420\n",
      " -> Valid loss: 0.1076 \n",
      "\n",
      "Epoch 13/50\n"
     ]
    },
    {
     "name": "stderr",
     "output_type": "stream",
     "text": [
      "Train: 100%|██████████| 53/53 [00:20<00:00,  2.54it/s]\n",
      "Val  : 100%|██████████| 8/8 [00:01<00:00,  5.24it/s]\n"
     ]
    },
    {
     "name": "stdout",
     "output_type": "stream",
     "text": [
      " -> Train loss: 0.0385\n",
      " -> Valid loss: 0.1071 \n",
      "\n",
      "Epoch 14/50\n"
     ]
    },
    {
     "name": "stderr",
     "output_type": "stream",
     "text": [
      "Train: 100%|██████████| 53/53 [00:20<00:00,  2.53it/s]\n",
      "Val  : 100%|██████████| 8/8 [00:01<00:00,  5.17it/s]\n"
     ]
    },
    {
     "name": "stdout",
     "output_type": "stream",
     "text": [
      " -> Train loss: 0.0371\n",
      " -> Valid loss: 0.1043 \n",
      "\n",
      "Epoch 15/50\n"
     ]
    },
    {
     "name": "stderr",
     "output_type": "stream",
     "text": [
      "Train: 100%|██████████| 53/53 [00:20<00:00,  2.53it/s]\n",
      "Val  : 100%|██████████| 8/8 [00:01<00:00,  5.19it/s]\n"
     ]
    },
    {
     "name": "stdout",
     "output_type": "stream",
     "text": [
      " -> Train loss: 0.0363\n",
      " -> Valid loss: 0.1048 \n",
      "\n",
      "Epoch 16/50\n"
     ]
    },
    {
     "name": "stderr",
     "output_type": "stream",
     "text": [
      "Train: 100%|██████████| 53/53 [00:20<00:00,  2.54it/s]\n",
      "Val  : 100%|██████████| 8/8 [00:01<00:00,  5.18it/s]\n"
     ]
    },
    {
     "name": "stdout",
     "output_type": "stream",
     "text": [
      " -> Train loss: 0.0360\n",
      " -> Valid loss: 0.1060 \n",
      "\n",
      "Epoch 17/50\n"
     ]
    },
    {
     "name": "stderr",
     "output_type": "stream",
     "text": [
      "Train: 100%|██████████| 53/53 [00:20<00:00,  2.54it/s]\n",
      "Val  : 100%|██████████| 8/8 [00:01<00:00,  5.24it/s]\n"
     ]
    },
    {
     "name": "stdout",
     "output_type": "stream",
     "text": [
      " -> Train loss: 0.0317\n",
      " -> Valid loss: 0.1053 \n",
      "\n",
      "Epoch 18/50\n"
     ]
    },
    {
     "name": "stderr",
     "output_type": "stream",
     "text": [
      "Train: 100%|██████████| 53/53 [00:20<00:00,  2.54it/s]\n",
      "Val  : 100%|██████████| 8/8 [00:01<00:00,  5.17it/s]\n"
     ]
    },
    {
     "name": "stdout",
     "output_type": "stream",
     "text": [
      " -> Train loss: 0.0295\n",
      " -> Valid loss: 0.1065 \n",
      "\n",
      "Epoch 19/50\n"
     ]
    },
    {
     "name": "stderr",
     "output_type": "stream",
     "text": [
      "Train: 100%|██████████| 53/53 [00:20<00:00,  2.54it/s]\n",
      "Val  : 100%|██████████| 8/8 [00:01<00:00,  5.24it/s]\n"
     ]
    },
    {
     "name": "stdout",
     "output_type": "stream",
     "text": [
      " -> Train loss: 0.0276\n",
      " -> Valid loss: 0.1064 \n",
      "\n",
      "Epoch 20/50\n"
     ]
    },
    {
     "name": "stderr",
     "output_type": "stream",
     "text": [
      "Train: 100%|██████████| 53/53 [00:20<00:00,  2.54it/s]\n",
      "Val  : 100%|██████████| 8/8 [00:01<00:00,  5.26it/s]\n"
     ]
    },
    {
     "name": "stdout",
     "output_type": "stream",
     "text": [
      " -> Train loss: 0.0275\n",
      " -> Valid loss: 0.1086 \n",
      "\n",
      "Epoch 21/50\n"
     ]
    },
    {
     "name": "stderr",
     "output_type": "stream",
     "text": [
      "Train: 100%|██████████| 53/53 [00:20<00:00,  2.54it/s]\n",
      "Val  : 100%|██████████| 8/8 [00:01<00:00,  5.24it/s]\n"
     ]
    },
    {
     "name": "stdout",
     "output_type": "stream",
     "text": [
      " -> Train loss: 0.0302\n",
      " -> Valid loss: 0.1186 \n",
      "\n",
      "Epoch 22/50\n"
     ]
    },
    {
     "name": "stderr",
     "output_type": "stream",
     "text": [
      "Train: 100%|██████████| 53/53 [00:20<00:00,  2.54it/s]\n",
      "Val  : 100%|██████████| 8/8 [00:01<00:00,  5.20it/s]\n"
     ]
    },
    {
     "name": "stdout",
     "output_type": "stream",
     "text": [
      " -> Train loss: 0.0307\n",
      " -> Valid loss: 0.1067 \n",
      "\n",
      "Epoch 23/50\n"
     ]
    },
    {
     "name": "stderr",
     "output_type": "stream",
     "text": [
      "Train: 100%|██████████| 53/53 [00:20<00:00,  2.54it/s]\n",
      "Val  : 100%|██████████| 8/8 [00:01<00:00,  5.22it/s]\n"
     ]
    },
    {
     "name": "stdout",
     "output_type": "stream",
     "text": [
      " -> Train loss: 0.0252\n",
      " -> Valid loss: 0.1048 \n",
      "\n",
      "Epoch 24/50\n"
     ]
    },
    {
     "name": "stderr",
     "output_type": "stream",
     "text": [
      "Train: 100%|██████████| 53/53 [00:20<00:00,  2.54it/s]\n",
      "Val  : 100%|██████████| 8/8 [00:01<00:00,  5.21it/s]\n"
     ]
    },
    {
     "name": "stdout",
     "output_type": "stream",
     "text": [
      " -> Train loss: 0.0285\n",
      " -> Valid loss: 0.1124 \n",
      "\n",
      "Epoch 25/50\n"
     ]
    },
    {
     "name": "stderr",
     "output_type": "stream",
     "text": [
      "Train: 100%|██████████| 53/53 [00:20<00:00,  2.55it/s]\n",
      "Val  : 100%|██████████| 8/8 [00:01<00:00,  5.21it/s]\n"
     ]
    },
    {
     "name": "stdout",
     "output_type": "stream",
     "text": [
      " -> Train loss: 0.0296\n",
      " -> Valid loss: 0.1075 \n",
      "\n",
      "Epoch 26/50\n"
     ]
    },
    {
     "name": "stderr",
     "output_type": "stream",
     "text": [
      "Train: 100%|██████████| 53/53 [00:20<00:00,  2.54it/s]\n",
      "Val  : 100%|██████████| 8/8 [00:01<00:00,  5.20it/s]\n"
     ]
    },
    {
     "name": "stdout",
     "output_type": "stream",
     "text": [
      " -> Train loss: 0.0267\n",
      " -> Valid loss: 0.1021 \n",
      "\n",
      "Epoch 27/50\n"
     ]
    },
    {
     "name": "stderr",
     "output_type": "stream",
     "text": [
      "Train: 100%|██████████| 53/53 [00:20<00:00,  2.54it/s]\n",
      "Val  : 100%|██████████| 8/8 [00:01<00:00,  5.19it/s]\n"
     ]
    },
    {
     "name": "stdout",
     "output_type": "stream",
     "text": [
      " -> Train loss: 0.0246\n",
      " -> Valid loss: 0.1045 \n",
      "\n",
      "Epoch 28/50\n"
     ]
    },
    {
     "name": "stderr",
     "output_type": "stream",
     "text": [
      "Train: 100%|██████████| 53/53 [00:20<00:00,  2.55it/s]\n",
      "Val  : 100%|██████████| 8/8 [00:01<00:00,  5.25it/s]\n"
     ]
    },
    {
     "name": "stdout",
     "output_type": "stream",
     "text": [
      " -> Train loss: 0.0231\n",
      " -> Valid loss: 0.1032 \n",
      "\n",
      "Epoch 29/50\n"
     ]
    },
    {
     "name": "stderr",
     "output_type": "stream",
     "text": [
      "Train: 100%|██████████| 53/53 [00:20<00:00,  2.54it/s]\n",
      "Val  : 100%|██████████| 8/8 [00:01<00:00,  5.25it/s]\n"
     ]
    },
    {
     "name": "stdout",
     "output_type": "stream",
     "text": [
      " -> Train loss: 0.0213\n",
      " -> Valid loss: 0.0982 \n",
      "\n",
      "Epoch 30/50\n"
     ]
    },
    {
     "name": "stderr",
     "output_type": "stream",
     "text": [
      "Train: 100%|██████████| 53/53 [00:20<00:00,  2.54it/s]\n",
      "Val  : 100%|██████████| 8/8 [00:01<00:00,  5.25it/s]\n"
     ]
    },
    {
     "name": "stdout",
     "output_type": "stream",
     "text": [
      " -> Train loss: 0.0223\n",
      " -> Valid loss: 0.1069 \n",
      "\n",
      "Epoch 31/50\n"
     ]
    },
    {
     "name": "stderr",
     "output_type": "stream",
     "text": [
      "Train: 100%|██████████| 53/53 [00:20<00:00,  2.54it/s]\n",
      "Val  : 100%|██████████| 8/8 [00:01<00:00,  5.24it/s]\n"
     ]
    },
    {
     "name": "stdout",
     "output_type": "stream",
     "text": [
      " -> Train loss: 0.0211\n",
      " -> Valid loss: 0.1081 \n",
      "\n",
      "Epoch 32/50\n"
     ]
    },
    {
     "name": "stderr",
     "output_type": "stream",
     "text": [
      "Train: 100%|██████████| 53/53 [00:20<00:00,  2.54it/s]\n",
      "Val  : 100%|██████████| 8/8 [00:01<00:00,  5.22it/s]\n"
     ]
    },
    {
     "name": "stdout",
     "output_type": "stream",
     "text": [
      " -> Train loss: 0.0219\n",
      " -> Valid loss: 0.0972 \n",
      "\n",
      "Epoch 33/50\n"
     ]
    },
    {
     "name": "stderr",
     "output_type": "stream",
     "text": [
      "Train: 100%|██████████| 53/53 [00:20<00:00,  2.54it/s]\n",
      "Val  : 100%|██████████| 8/8 [00:01<00:00,  5.17it/s]\n"
     ]
    },
    {
     "name": "stdout",
     "output_type": "stream",
     "text": [
      " -> Train loss: 0.0255\n",
      " -> Valid loss: 0.1046 \n",
      "\n",
      "Epoch 34/50\n"
     ]
    },
    {
     "name": "stderr",
     "output_type": "stream",
     "text": [
      "Train: 100%|██████████| 53/53 [00:20<00:00,  2.55it/s]\n",
      "Val  : 100%|██████████| 8/8 [00:01<00:00,  5.19it/s]\n"
     ]
    },
    {
     "name": "stdout",
     "output_type": "stream",
     "text": [
      " -> Train loss: 0.0265\n",
      " -> Valid loss: 0.1016 \n",
      "\n",
      "Epoch 35/50\n"
     ]
    },
    {
     "name": "stderr",
     "output_type": "stream",
     "text": [
      "Train: 100%|██████████| 53/53 [00:21<00:00,  2.51it/s]\n",
      "Val  : 100%|██████████| 8/8 [00:01<00:00,  4.98it/s]\n"
     ]
    },
    {
     "name": "stdout",
     "output_type": "stream",
     "text": [
      " -> Train loss: 0.0238\n",
      " -> Valid loss: 0.1019 \n",
      "\n",
      "Epoch 36/50\n"
     ]
    },
    {
     "name": "stderr",
     "output_type": "stream",
     "text": [
      "Train: 100%|██████████| 53/53 [00:20<00:00,  2.54it/s]\n",
      "Val  : 100%|██████████| 8/8 [00:01<00:00,  5.26it/s]\n"
     ]
    },
    {
     "name": "stdout",
     "output_type": "stream",
     "text": [
      " -> Train loss: 0.0208\n",
      " -> Valid loss: 0.1023 \n",
      "\n",
      "Epoch 37/50\n"
     ]
    },
    {
     "name": "stderr",
     "output_type": "stream",
     "text": [
      "Train: 100%|██████████| 53/53 [00:20<00:00,  2.55it/s]\n",
      "Val  : 100%|██████████| 8/8 [00:01<00:00,  5.25it/s]\n"
     ]
    },
    {
     "name": "stdout",
     "output_type": "stream",
     "text": [
      " -> Train loss: 0.0232\n",
      " -> Valid loss: 0.1012 \n",
      "\n",
      "Epoch 38/50\n"
     ]
    },
    {
     "name": "stderr",
     "output_type": "stream",
     "text": [
      "Train: 100%|██████████| 53/53 [00:20<00:00,  2.54it/s]\n",
      "Val  : 100%|██████████| 8/8 [00:01<00:00,  5.23it/s]\n"
     ]
    },
    {
     "name": "stdout",
     "output_type": "stream",
     "text": [
      " -> Train loss: 0.0221\n",
      " -> Valid loss: 0.1019 \n",
      "\n",
      "Epoch 39/50\n"
     ]
    },
    {
     "name": "stderr",
     "output_type": "stream",
     "text": [
      "Train: 100%|██████████| 53/53 [00:20<00:00,  2.55it/s]\n",
      "Val  : 100%|██████████| 8/8 [00:01<00:00,  5.21it/s]\n"
     ]
    },
    {
     "name": "stdout",
     "output_type": "stream",
     "text": [
      " -> Train loss: 0.0236\n",
      " -> Valid loss: 0.1001 \n",
      "\n",
      "Epoch 40/50\n"
     ]
    },
    {
     "name": "stderr",
     "output_type": "stream",
     "text": [
      "Train: 100%|██████████| 53/53 [00:20<00:00,  2.54it/s]\n",
      "Val  : 100%|██████████| 8/8 [00:01<00:00,  4.75it/s]\n"
     ]
    },
    {
     "name": "stdout",
     "output_type": "stream",
     "text": [
      " -> Train loss: 0.0214\n",
      " -> Valid loss: 0.0993 \n",
      "\n",
      "Epoch 41/50\n"
     ]
    },
    {
     "name": "stderr",
     "output_type": "stream",
     "text": [
      "Train: 100%|██████████| 53/53 [00:20<00:00,  2.53it/s]\n",
      "Val  : 100%|██████████| 8/8 [00:01<00:00,  5.23it/s]\n"
     ]
    },
    {
     "name": "stdout",
     "output_type": "stream",
     "text": [
      " -> Train loss: 0.0204\n",
      " -> Valid loss: 0.0998 \n",
      "\n",
      "Epoch 42/50\n"
     ]
    },
    {
     "name": "stderr",
     "output_type": "stream",
     "text": [
      "Train: 100%|██████████| 53/53 [00:20<00:00,  2.54it/s]\n",
      "Val  : 100%|██████████| 8/8 [00:01<00:00,  5.26it/s]\n"
     ]
    },
    {
     "name": "stdout",
     "output_type": "stream",
     "text": [
      " -> Train loss: 0.0183\n",
      " -> Valid loss: 0.1001 \n",
      "\n",
      "Epoch 43/50\n"
     ]
    },
    {
     "name": "stderr",
     "output_type": "stream",
     "text": [
      "Train: 100%|██████████| 53/53 [00:20<00:00,  2.55it/s]\n",
      "Val  : 100%|██████████| 8/8 [00:01<00:00,  5.25it/s]\n"
     ]
    },
    {
     "name": "stdout",
     "output_type": "stream",
     "text": [
      " -> Train loss: 0.0174\n",
      " -> Valid loss: 0.0978 \n",
      "\n",
      "Epoch 44/50\n"
     ]
    },
    {
     "name": "stderr",
     "output_type": "stream",
     "text": [
      "Train: 100%|██████████| 53/53 [00:20<00:00,  2.54it/s]\n",
      "Val  : 100%|██████████| 8/8 [00:01<00:00,  5.18it/s]\n"
     ]
    },
    {
     "name": "stdout",
     "output_type": "stream",
     "text": [
      " -> Train loss: 0.0176\n",
      " -> Valid loss: 0.1033 \n",
      "\n",
      "Epoch 45/50\n"
     ]
    },
    {
     "name": "stderr",
     "output_type": "stream",
     "text": [
      "Train: 100%|██████████| 53/53 [00:20<00:00,  2.54it/s]\n",
      "Val  : 100%|██████████| 8/8 [00:01<00:00,  5.21it/s]\n"
     ]
    },
    {
     "name": "stdout",
     "output_type": "stream",
     "text": [
      " -> Train loss: 0.0175\n",
      " -> Valid loss: 0.1013 \n",
      "\n",
      "Epoch 46/50\n"
     ]
    },
    {
     "name": "stderr",
     "output_type": "stream",
     "text": [
      "Train: 100%|██████████| 53/53 [00:20<00:00,  2.55it/s]\n",
      "Val  : 100%|██████████| 8/8 [00:01<00:00,  5.22it/s]\n"
     ]
    },
    {
     "name": "stdout",
     "output_type": "stream",
     "text": [
      " -> Train loss: 0.0170\n",
      " -> Valid loss: 0.1002 \n",
      "\n",
      "Epoch 47/50\n"
     ]
    },
    {
     "name": "stderr",
     "output_type": "stream",
     "text": [
      "Train: 100%|██████████| 53/53 [00:20<00:00,  2.54it/s]\n",
      "Val  : 100%|██████████| 8/8 [00:01<00:00,  5.18it/s]\n"
     ]
    },
    {
     "name": "stdout",
     "output_type": "stream",
     "text": [
      " -> Train loss: 0.0168\n",
      " -> Valid loss: 0.1003 \n",
      "\n",
      "Epoch 48/50\n"
     ]
    },
    {
     "name": "stderr",
     "output_type": "stream",
     "text": [
      "Train: 100%|██████████| 53/53 [00:21<00:00,  2.52it/s]\n",
      "Val  : 100%|██████████| 8/8 [00:01<00:00,  5.19it/s]\n"
     ]
    },
    {
     "name": "stdout",
     "output_type": "stream",
     "text": [
      " -> Train loss: 0.0177\n",
      " -> Valid loss: 0.1039 \n",
      "\n",
      "Epoch 49/50\n"
     ]
    },
    {
     "name": "stderr",
     "output_type": "stream",
     "text": [
      "Train: 100%|██████████| 53/53 [00:20<00:00,  2.55it/s]\n",
      "Val  : 100%|██████████| 8/8 [00:01<00:00,  5.17it/s]\n"
     ]
    },
    {
     "name": "stdout",
     "output_type": "stream",
     "text": [
      " -> Train loss: 0.0182\n",
      " -> Valid loss: 0.0987 \n",
      "\n",
      "Epoch 50/50\n"
     ]
    },
    {
     "name": "stderr",
     "output_type": "stream",
     "text": [
      "Train: 100%|██████████| 53/53 [00:20<00:00,  2.54it/s]\n",
      "Val  : 100%|██████████| 8/8 [00:01<00:00,  5.18it/s]"
     ]
    },
    {
     "name": "stdout",
     "output_type": "stream",
     "text": [
      " -> Train loss: 0.0179\n",
      " -> Valid loss: 0.1005 \n",
      "\n"
     ]
    },
    {
     "name": "stderr",
     "output_type": "stream",
     "text": [
      "\n"
     ]
    }
   ],
   "source": [
    "# Training loop\n",
    "for epoch in range(history['current_epoch'], num_epochs):\n",
    "\n",
    "    # Set model in train mode (calculate gradients)\n",
    "    model.train()\n",
    "\n",
    "    # Iterate over each batch\n",
    "    loss_train_all = []\n",
    "    print(f\"Epoch {epoch + 1}/{num_epochs}\")\n",
    "    for images, targets in tqdm(train_loader, desc='Train'):\n",
    "\n",
    "        # Move data to device\n",
    "        images = torch.stack(images, dim=0).to(device)\n",
    "        targets = [{k: v.to(device) for k, v in targets[t].items()} for t in range(len(images))]\n",
    "\n",
    "        # Predict and get loss value\n",
    "        losses = model(images, targets)\n",
    "        loss_train = sum(loss for loss in losses.values()).mean()\n",
    "        loss_train_all.append(loss_train)\n",
    "\n",
    "        # Reset gradients\n",
    "        ...\n",
    "\n",
    "        # Apply backpropagation\n",
    "        ...\n",
    "\n",
    "        # Clip gradients (to avoid gradient exploding)\n",
    "        clip_grad_norms(optimizer.param_groups, max_norm=max_grad_norm)\n",
    "\n",
    "        # Update model's weights\n",
    "        ...\n",
    "    \n",
    "    # Get average loss for the epoch\n",
    "    loss_train = torch.tensor(loss_train_all, device=device).mean()\n",
    "\n",
    "    # Update scheduler\n",
    "    lr_scheduler.step(loss_train)\n",
    "\n",
    "    # Validation (gradients are not necessary)\n",
    "    with torch.no_grad():\n",
    "\n",
    "        # Validation\n",
    "        loss_valid_all = []\n",
    "        for images, targets in tqdm(valid_loader, desc='Val  '):\n",
    "\n",
    "            # Move data to device\n",
    "            images = torch.stack(images, dim=0).to(device)\n",
    "            targets = [{k: v.to(device) for k, v in targets[t].items()} for t in range(len(images))]\n",
    "\n",
    "            # Predict and get loss value\n",
    "            losses = model(images, targets)\n",
    "            loss_valid = sum(loss for loss in losses.values()).mean()\n",
    "            loss_valid_all.append(loss_valid)\n",
    "        loss_valid = torch.tensor(loss_valid_all, device=device).mean()\n",
    "\n",
    "    # Save training history\n",
    "    history['current_epoch'] = epoch + 1\n",
    "    history['train_loss'].append(np.mean([loss.detach().cpu().numpy() for loss in loss_train_all]))\n",
    "    history['valid_loss'].append(np.mean([loss.detach().cpu().numpy() for loss in loss_valid_all]))\n",
    "    print(f\" -> Train loss: {history['train_loss'][-1]:.4f}\")\n",
    "    print(f\" -> Valid loss: {history['valid_loss'][-1]:.4f} \\n\")\n",
    "\n",
    "    # Save best model\n",
    "    if loss_train < history['best_value']:\n",
    "        history['best_value'] = loss_train\n",
    "        torch.save(\n",
    "            {\n",
    "                'model': model.state_dict(),\n",
    "                'optimizer': optimizer.state_dict(),\n",
    "                'rng_state': torch.get_rng_state(),\n",
    "                'cuda_rng_state': torch.cuda.get_rng_state_all(),\n",
    "                'history': history,\n",
    "            },\n",
    "            os.path.join(model_path)\n",
    "        )"
   ]
  },
  {
   "cell_type": "code",
   "execution_count": 9,
   "metadata": {
    "colab": {
     "base_uri": "https://localhost:8080/",
     "height": 452
    },
    "executionInfo": {
     "elapsed": 879,
     "status": "ok",
     "timestamp": 1697813634112,
     "user": {
      "displayName": "Dani Fuertes",
      "userId": "03202983811684298813"
     },
     "user_tz": -120
    },
    "id": "z7Sg81RYCkZ-",
    "outputId": "7d5f12c1-124d-4af9-f915-38e9c8dc2512"
   },
   "outputs": [
    {
     "data": {
      "image/png": "[encoded data removed]",
      "text/plain": [
       "<Figure size 640x480 with 1 Axes>"
      ]
     },
     "metadata": {},
     "output_type": "display_data"
    }
   ],
   "source": [
    "# Plot training history\n",
    "epochs = range(1, max(len(history['train_loss']), len(history['valid_loss'])) + 1)\n",
    "plt.plot(epochs, history['train_loss'], label='train_loss')\n",
    "plt.plot(epochs, history['valid_loss'], label='valid_loss')\n",
    "plt.xlabel('Epoch')\n",
    "plt.ylabel('Loss')\n",
    "plt.legend()\n",
    "plt.savefig(os.path.join(save_dir, 'history.png'))\n",
    "plt.show()"
   ]
  }
 ],
 "metadata": {
  "accelerator": "GPU",
  "colab": {
   "gpuType": "T4",
   "provenance": []
  },
  "kernelspec": {
   "display_name": "Python 3 (ipykernel)",
   "language": "python",
   "name": "python3"
  },
  "language_info": {
   "codemirror_mode": {
    "name": "ipython",
    "version": 3
   },
   "file_extension": ".py",
   "mimetype": "text/x-python",
   "name": "python",
   "nbconvert_exporter": "python",
   "pygments_lexer": "ipython3",
   "version": "3.11.9"
  }
 },
 "nbformat": 4,
 "nbformat_minor": 4
}
