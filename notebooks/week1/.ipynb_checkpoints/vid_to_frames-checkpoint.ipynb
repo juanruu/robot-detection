{
 "cells": [
  {
   "cell_type": "markdown",
   "metadata": {},
   "source": [
    "# Convert videos to frames"
   ]
  },
  {
   "cell_type": "markdown",
   "metadata": {},
   "source": [
    "## Imports"
   ]
  },
  {
   "cell_type": "code",
   "execution_count": 1,
   "metadata": {},
   "outputs": [],
   "source": [
    "import os\n",
    "import cv2"
   ]
  },
  {
   "cell_type": "markdown",
   "metadata": {},
   "source": [
    "## Helper function"
   ]
  },
  {
   "cell_type": "code",
   "execution_count": 2,
   "metadata": {},
   "outputs": [],
   "source": [
    "def extract_frames(video_path, output_dir, frame_interval=15):\n",
    "    \"\"\"Function that takes in a path to a video file, a path to an output\n",
    "    directory, and a frame interval, and splits the video file into frames.\n",
    "\n",
    "    :param video_path: path to a video file.\n",
    "    :param output_dir: path to an output directory where to store the frames.\n",
    "    :param frame_interval: interval at which to extract frames from the video.\n",
    "    :return:\n",
    "        None\n",
    "    \"\"\"\n",
    "    # Open the video file\n",
    "    cap = cv2.VideoCapture(video_path)\n",
    "    if not cap.isOpened():\n",
    "        print('Error: Could not open video file.')\n",
    "        return\n",
    "\n",
    "    # Get the frames per second (fps) of the video\n",
    "    fps = int(cap.get(cv2.CAP_PROP_FPS))\n",
    "\n",
    "    # Create the output folder and subfolders if they do not exist\n",
    "    frames_dir = os.path.join(output_dir, 'images')\n",
    "    labels_dir = os.path.join(output_dir, 'labels')\n",
    "    if not os.path.exists(output_dir):\n",
    "        os.makedirs(output_dir)\n",
    "        os.makedirs(frames_dir)\n",
    "        os.makedirs(labels_dir)\n",
    "\n",
    "    frame_count = 0\n",
    "    while True:\n",
    "        ret, frame = cap.read()\n",
    "        if not ret:\n",
    "            break\n",
    "\n",
    "        frame_count += 1\n",
    "\n",
    "        # Extract one frame every frame_interval frames\n",
    "        if frame_count % frame_interval == 0:\n",
    "            # Save the frame as an image\n",
    "            image_filename = os.path.join(frames_dir, f'frame_{frame_count:04d}.jpg')\n",
    "            cv2.imwrite(image_filename, frame)\n",
    "\n",
    "    cap.release()\n",
    "    print(f'- Frames extracted: {frame_count // frame_interval}')\n",
    "    print(f'- Frames saved in: {output_dir}\\n')"
   ]
  },
  {
   "cell_type": "markdown",
   "metadata": {},
   "source": [
    "## Extract frames"
   ]
  },
  {
   "cell_type": "code",
   "execution_count": 3,
   "metadata": {},
   "outputs": [],
   "source": [
    "SOURCE_DIR = '../../datasets'    # Path to the directory containing all videos\n",
    "FRAME_INTERVAL = 20             # Interval at which to extract frames from the video"
   ]
  },
  {
   "cell_type": "code",
   "execution_count": 4,
   "metadata": {},
   "outputs": [
    {
     "name": "stdout",
     "output_type": "stream",
     "text": [
      "Processing file: DJI_683_70_2_58.mp4\n",
      "Error: Could not open video file.\n",
      "Processing file: DJI_150_613_2_62.mp4\n",
      "Error: Could not open video file.\n",
      "Processing file: DJI_473_535_2_63.mp4\n",
      "Error: Could not open video file.\n",
      "Processing file: DJI_941_147_2_154.mp4\n",
      "Error: Could not open video file.\n",
      "Processing file: DJI_452_520_2_63.mp4\n",
      "Error: Could not open video file.\n",
      "Processing file: DJI_167_582_2_70.mp4\n",
      "Error: Could not open video file.\n",
      "Processing file: DJI_540_825_2_95.mp4\n",
      "Error: Could not open video file.\n",
      "Processing file: DJI_734_833_2_54.mp4\n",
      "Error: Could not open video file.\n",
      "Processing file: DJI_352_250_2_52.mp4\n",
      "Error: Could not open video file.\n",
      "Processing file: DJI_961_381_2_52.mp4\n",
      "Error: Could not open video file.\n",
      "Processing file: DJI_250_982_2_4.mp4\n"
     ]
    },
    {
     "name": "stderr",
     "output_type": "stream",
     "text": [
      "[mov,mp4,m4a,3gp,3g2,mj2 @ 0x5a2e12577f00] moov atom not found\n",
      "[mov,mp4,m4a,3gp,3g2,mj2 @ 0x5a2e12577f00] moov atom not found\n",
      "[mov,mp4,m4a,3gp,3g2,mj2 @ 0x5a2e12577f00] moov atom not found\n",
      "[mov,mp4,m4a,3gp,3g2,mj2 @ 0x5a2e12577f00] moov atom not found\n",
      "[mov,mp4,m4a,3gp,3g2,mj2 @ 0x5a2e12577f00] moov atom not found\n",
      "[mov,mp4,m4a,3gp,3g2,mj2 @ 0x5a2e12577f00] moov atom not found\n",
      "[mov,mp4,m4a,3gp,3g2,mj2 @ 0x5a2e12577f00] moov atom not found\n",
      "[mov,mp4,m4a,3gp,3g2,mj2 @ 0x5a2e12577f00] moov atom not found\n",
      "[mov,mp4,m4a,3gp,3g2,mj2 @ 0x5a2e12577f00] moov atom not found\n",
      "[mov,mp4,m4a,3gp,3g2,mj2 @ 0x5a2e12577f00] moov atom not found\n"
     ]
    },
    {
     "name": "stdout",
     "output_type": "stream",
     "text": [
      "- Frames extracted: 9\n",
      "- Frames saved in: ../../datasets/DJI_250_982_2_4\n",
      "\n",
      "Processing file: DJI_266_181_2_14.mp4\n",
      "Error: Could not open video file.\n",
      "Processing file: DJI_682_477_2_83.mp4\n",
      "Error: Could not open video file.\n",
      "Processing file: DJI_775_228_2_3.mp4\n"
     ]
    },
    {
     "name": "stderr",
     "output_type": "stream",
     "text": [
      "[mov,mp4,m4a,3gp,3g2,mj2 @ 0x5a2e12577f00] moov atom not found\n",
      "[mov,mp4,m4a,3gp,3g2,mj2 @ 0x5a2e12577f00] moov atom not found\n"
     ]
    },
    {
     "name": "stdout",
     "output_type": "stream",
     "text": [
      "- Frames extracted: 7\n",
      "- Frames saved in: ../../datasets/DJI_775_228_2_3\n",
      "\n",
      "Processing file: DJI_116_985_2_55.mp4\n",
      "Error: Could not open video file.\n"
     ]
    },
    {
     "name": "stderr",
     "output_type": "stream",
     "text": [
      "[mov,mp4,m4a,3gp,3g2,mj2 @ 0x5a2e12577f00] moov atom not found\n"
     ]
    }
   ],
   "source": [
    "for video_file in os.listdir(SOURCE_DIR):\n",
    "    if os.path.isfile(os.path.join(SOURCE_DIR, video_file)):\n",
    "        print(f'Processing file: {video_file}')\n",
    "\n",
    "        file_path = os.path.join(SOURCE_DIR, video_file)\n",
    "        file_name = video_file.split('.')[0]\n",
    "\n",
    "        output_folder = os.path.join(SOURCE_DIR, file_name)\n",
    "\n",
    "        extract_frames(file_path, output_folder, frame_interval=FRAME_INTERVAL)"
   ]
  },
  {
   "cell_type": "code",
   "execution_count": null,
   "metadata": {},
   "outputs": [],
   "source": []
  }
 ],
 "metadata": {
  "kernelspec": {
   "display_name": "Python 3 (ipykernel)",
   "language": "python",
   "name": "python3"
  },
  "language_info": {
   "codemirror_mode": {
    "name": "ipython",
    "version": 3
   },
   "file_extension": ".py",
   "mimetype": "text/x-python",
   "name": "python",
   "nbconvert_exporter": "python",
   "pygments_lexer": "ipython3",
   "version": "3.11.9"
  }
 },
 "nbformat": 4,
 "nbformat_minor": 4
}
